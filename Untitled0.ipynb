{
  "nbformat": 4,
  "nbformat_minor": 0,
  "metadata": {
    "colab": {
      "provenance": [],
      "authorship_tag": "ABX9TyPVp4fSztw3PwEco34SKa2b",
      "include_colab_link": true
    },
    "kernelspec": {
      "name": "python3",
      "display_name": "Python 3"
    },
    "language_info": {
      "name": "python"
    }
  },
  "cells": [
    {
      "cell_type": "markdown",
      "metadata": {
        "id": "view-in-github",
        "colab_type": "text"
      },
      "source": [
        "<a href=\"https://colab.research.google.com/github/Diego20066/Algoritmo-proyecto-de-js-/blob/main/Untitled0.ipynb\" target=\"_parent\"><img src=\"https://colab.research.google.com/assets/colab-badge.svg\" alt=\"Open In Colab\"/></a>"
      ]
    },
    {
      "cell_type": "code",
      "execution_count": 1,
      "metadata": {
        "colab": {
          "base_uri": "https://localhost:8080/"
        },
        "id": "fHhMBGf6D4pg",
        "outputId": "2540d482-5ae2-4c63-ef30-550fa887051f"
      },
      "outputs": [
        {
          "output_type": "stream",
          "name": "stdout",
          "text": [
            "=== DEMO DEL NAVEGADOR ===\n",
            "Navegando a: google.com\n",
            "Se ha agregado 'google.com' a la pila.\n",
            "Navegando a: facebook.com\n",
            "Se ha agregado 'facebook.com' a la pila.\n",
            "Navegando a: youtube.com\n",
            "Se ha agregado 'youtube.com' a la pila.\n",
            "Se ha eliminado 'facebook.com' de la pila.\n",
            "Volviendo a: facebook.com\n",
            "Se ha agregado 'facebook.com' a la pila.\n",
            "Se ha eliminado 'google.com' de la pila.\n",
            "Volviendo a: google.com\n",
            "Se ha agregado 'google.com' a la pila.\n",
            "Se ha eliminado 'facebook.com' de la pila.\n",
            "Avanzando a: facebook.com\n",
            "Página actual: facebook.com\n",
            "Historial atrás: ['google.com']\n",
            "Historial adelante: ['youtube.com']\n",
            "\n",
            "=== PARA PROBAR LA IMPRESORA: ===\n",
            "Llama a la función: simulacion_impresora()\n"
          ]
        }
      ],
      "source": [
        "# ==========================\n",
        "# CLASE PILA (STACK - LIFO)\n",
        "# ==========================\n",
        "class Pila:\n",
        "    def __init__(self):\n",
        "        self.elementos = []\n",
        "\n",
        "    def esta_vacia(self):\n",
        "        return len(self.elementos) == 0\n",
        "\n",
        "    def apilar(self, elemento):\n",
        "        self.elementos.append(elemento)\n",
        "        print(f\"Se ha agregado '{elemento}' a la pila.\")\n",
        "\n",
        "    def desapilar(self):\n",
        "        if self.esta_vacia():\n",
        "            print(\"La pila está vacía.\")\n",
        "            return None\n",
        "        elemento = self.elementos.pop()\n",
        "        print(f\"Se ha eliminado '{elemento}' de la pila.\")\n",
        "        return elemento\n",
        "\n",
        "    def mostrar(self):\n",
        "        print(\"Contenido de la pila:\", self.elementos)\n",
        "\n",
        "\n",
        "# ==========================\n",
        "# CLASE COLA (QUEUE - FIFO)\n",
        "# ==========================\n",
        "class Cola:\n",
        "    def __init__(self):\n",
        "        self.elementos = []\n",
        "\n",
        "    def esta_vacia(self):\n",
        "        return len(self.elementos) == 0\n",
        "\n",
        "    def encolar(self, elemento):\n",
        "        self.elementos.append(elemento)\n",
        "        print(f\"Documento '{elemento}' agregado a la cola de impresión.\")\n",
        "\n",
        "    def desencolar(self):\n",
        "        if self.esta_vacia():\n",
        "            print(\"No hay documentos por imprimir.\")\n",
        "            return None\n",
        "        elemento = self.elementos.pop(0)\n",
        "        print(f\"Imprimiendo documento: '{elemento}'.\")\n",
        "        return elemento\n",
        "\n",
        "    def mostrar(self):\n",
        "        print(\"Documentos en cola:\", self.elementos)\n",
        "\n",
        "\n",
        "# ======================================================\n",
        "# EXTRA 1: Simulación de Navegador (atrás / adelante)\n",
        "# ======================================================\n",
        "class Navegador:\n",
        "    def __init__(self):\n",
        "        self.historial_atras = Pila()\n",
        "        self.historial_adelante = Pila()\n",
        "        self.actual = None\n",
        "\n",
        "    def navegar(self, pagina):\n",
        "        if self.actual:\n",
        "            self.historial_atras.apilar(self.actual)\n",
        "        self.actual = pagina\n",
        "        self.historial_adelante = Pila()\n",
        "        print(f\"Navegando a: {self.actual}\")\n",
        "\n",
        "    def atras(self):\n",
        "        if self.historial_atras.esta_vacia():\n",
        "            print(\"No hay páginas anteriores.\")\n",
        "            return\n",
        "        self.historial_adelante.apilar(self.actual)\n",
        "        self.actual = self.historial_atras.desapilar()\n",
        "        print(f\"Volviendo a: {self.actual}\")\n",
        "\n",
        "    def adelante(self):\n",
        "        if self.historial_adelante.esta_vacia():\n",
        "            print(\"No hay páginas siguientes.\")\n",
        "            return\n",
        "        self.historial_atras.apilar(self.actual)\n",
        "        self.actual = self.historial_adelante.desapilar()\n",
        "        print(f\"Avanzando a: {self.actual}\")\n",
        "\n",
        "    def mostrar(self):\n",
        "        print(f\"Página actual: {self.actual}\")\n",
        "        print(\"Historial atrás:\", self.historial_atras.elementos)\n",
        "        print(\"Historial adelante:\", self.historial_adelante.elementos)\n",
        "\n",
        "\n",
        "# ======================================================\n",
        "# EXTRA 2: Simulación de Cola de Impresión\n",
        "# ======================================================\n",
        "def simulacion_impresora():\n",
        "    cola = Cola()\n",
        "    while True:\n",
        "        accion = input(\"Ingresa un documento o 'imprimir' o 'salir': \")\n",
        "        if accion.lower() == \"salir\":\n",
        "            break\n",
        "        elif accion.lower() == \"imprimir\":\n",
        "            cola.desencolar()\n",
        "        else:\n",
        "            cola.encolar(accion)\n",
        "        cola.mostrar()\n",
        "\n",
        "\n",
        "# ======================\n",
        "# EJEMPLO DE EJECUCIÓN\n",
        "# ======================\n",
        "print(\"=== DEMO DEL NAVEGADOR ===\")\n",
        "nav = Navegador()\n",
        "nav.navegar(\"google.com\")\n",
        "nav.navegar(\"facebook.com\")\n",
        "nav.navegar(\"youtube.com\")\n",
        "nav.atras()\n",
        "nav.atras()\n",
        "nav.adelante()\n",
        "nav.mostrar()\n",
        "\n",
        "print(\"\\n=== PARA PROBAR LA IMPRESORA: ===\")\n",
        "print(\"Llama a la función: simulacion_impresora()\")\n"
      ]
    },
    {
      "cell_type": "code",
      "source": [
        "simulacion_impresora()\n"
      ],
      "metadata": {
        "colab": {
          "base_uri": "https://localhost:8080/"
        },
        "id": "82dLKx-LECyY",
        "outputId": "6c60c209-13ed-424e-d54c-ada194e8c6cf"
      },
      "execution_count": null,
      "outputs": [
        {
          "metadata": {
            "tags": null
          },
          "name": "stdout",
          "output_type": "stream",
          "text": [
            "No hay documentos por imprimir.\n",
            "Documentos en cola: []\n",
            "Documento '2' agregado a la cola de impresión.\n",
            "Documentos en cola: ['2']\n",
            "Imprimiendo documento: '2'.\n",
            "Documentos en cola: []\n",
            "Documento '1' agregado a la cola de impresión.\n",
            "Documentos en cola: ['1']\n",
            "Imprimiendo documento: '1'.\n",
            "Documentos en cola: []\n"
          ]
        }
      ]
    },
    {
      "cell_type": "markdown",
      "source": [],
      "metadata": {
        "id": "cWO-jk26EAsa"
      }
    }
  ]
}